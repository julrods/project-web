{
 "cells": [
  {
   "cell_type": "code",
   "execution_count": 1,
   "id": "delayed-placement",
   "metadata": {},
   "outputs": [],
   "source": [
    "#importing libraries\n",
    "import json\n",
    "import pandas as pd\n",
    "from pandas.io.json import json_normalize"
   ]
  },
  {
   "cell_type": "code",
   "execution_count": 2,
   "id": "filled-journalism",
   "metadata": {},
   "outputs": [],
   "source": [
    "#reading the json file we created with scrapy\n",
    "products = pd.read_json('/Users/Júlia/Documents/Ironhack/1_modulo_1/Proyectos/PR03-project-web/my-code/scrapy project/amazon/productos.json')"
   ]
  },
  {
   "cell_type": "code",
   "execution_count": 3,
   "id": "ordered-france",
   "metadata": {},
   "outputs": [
    {
     "data": {
      "text/plain": [
       "(5601, 7)"
      ]
     },
     "execution_count": 3,
     "metadata": {},
     "output_type": "execute_result"
    }
   ],
   "source": [
    "#checking there are as many products as on the page\n",
    "products.shape"
   ]
  },
  {
   "cell_type": "code",
   "execution_count": 4,
   "id": "annoying-import",
   "metadata": {},
   "outputs": [
    {
     "data": {
      "text/html": [
       "<div>\n",
       "<style scoped>\n",
       "    .dataframe tbody tr th:only-of-type {\n",
       "        vertical-align: middle;\n",
       "    }\n",
       "\n",
       "    .dataframe tbody tr th {\n",
       "        vertical-align: top;\n",
       "    }\n",
       "\n",
       "    .dataframe thead th {\n",
       "        text-align: right;\n",
       "    }\n",
       "</style>\n",
       "<table border=\"1\" class=\"dataframe\">\n",
       "  <thead>\n",
       "    <tr style=\"text-align: right;\">\n",
       "      <th></th>\n",
       "      <th>prod_name</th>\n",
       "      <th>price_whole</th>\n",
       "      <th>price_bulk</th>\n",
       "      <th>price_old</th>\n",
       "      <th>stars</th>\n",
       "      <th>reviews</th>\n",
       "      <th>delivery_date</th>\n",
       "    </tr>\n",
       "  </thead>\n",
       "  <tbody>\n",
       "    <tr>\n",
       "      <th>0</th>\n",
       "      <td>Válquer Profesional Pack Tratamiento Capilar A...</td>\n",
       "      <td>24,14</td>\n",
       "      <td>(24,14 €/unidad)</td>\n",
       "      <td>None</td>\n",
       "      <td>3,2 de 5 estrellas</td>\n",
       "      <td>27.00</td>\n",
       "      <td>mañana, 7 de abril</td>\n",
       "    </tr>\n",
       "    <tr>\n",
       "      <th>1</th>\n",
       "      <td>Válquer Profesional Ice Hair Mask. Mascarilla ...</td>\n",
       "      <td>13,99</td>\n",
       "      <td>(4,66 €/100 ml)</td>\n",
       "      <td>None</td>\n",
       "      <td>4,4 de 5 estrellas</td>\n",
       "      <td>24.00</td>\n",
       "      <td>mañana, 7 de abril</td>\n",
       "    </tr>\n",
       "    <tr>\n",
       "      <th>2</th>\n",
       "      <td>KOKEN - Champú Neutro Profesional 5L- Fórmula ...</td>\n",
       "      <td>14,90</td>\n",
       "      <td>(0,30 €/100 ml)</td>\n",
       "      <td>None</td>\n",
       "      <td>None</td>\n",
       "      <td>NaN</td>\n",
       "      <td>None</td>\n",
       "    </tr>\n",
       "    <tr>\n",
       "      <th>3</th>\n",
       "      <td>Pack Champu 0% Sulfatos 1000ml + Mascarilla 0%...</td>\n",
       "      <td>22,48</td>\n",
       "      <td>(22,48 €/unidad)</td>\n",
       "      <td>27,00 €</td>\n",
       "      <td>4,4 de 5 estrellas</td>\n",
       "      <td>10.00</td>\n",
       "      <td>None</td>\n",
       "    </tr>\n",
       "    <tr>\n",
       "      <th>4</th>\n",
       "      <td>L'Oréal Professionnel Champú Absolut Repair, 5...</td>\n",
       "      <td>11,86</td>\n",
       "      <td>(2,37 €/100 ml)</td>\n",
       "      <td>None</td>\n",
       "      <td>4,4 de 5 estrellas</td>\n",
       "      <td>4.79</td>\n",
       "      <td>domingo, 11 de abril</td>\n",
       "    </tr>\n",
       "  </tbody>\n",
       "</table>\n",
       "</div>"
      ],
      "text/plain": [
       "                                           prod_name price_whole  \\\n",
       "0  Válquer Profesional Pack Tratamiento Capilar A...       24,14   \n",
       "1  Válquer Profesional Ice Hair Mask. Mascarilla ...       13,99   \n",
       "2  KOKEN - Champú Neutro Profesional 5L- Fórmula ...       14,90   \n",
       "3  Pack Champu 0% Sulfatos 1000ml + Mascarilla 0%...       22,48   \n",
       "4  L'Oréal Professionnel Champú Absolut Repair, 5...       11,86   \n",
       "\n",
       "         price_bulk price_old               stars  reviews  \\\n",
       "0  (24,14 €/unidad)      None  3,2 de 5 estrellas    27.00   \n",
       "1   (4,66 €/100 ml)      None  4,4 de 5 estrellas    24.00   \n",
       "2   (0,30 €/100 ml)      None                None      NaN   \n",
       "3  (22,48 €/unidad)   27,00 €  4,4 de 5 estrellas    10.00   \n",
       "4   (2,37 €/100 ml)      None  4,4 de 5 estrellas     4.79   \n",
       "\n",
       "          delivery_date  \n",
       "0    mañana, 7 de abril  \n",
       "1    mañana, 7 de abril  \n",
       "2                  None  \n",
       "3                  None  \n",
       "4  domingo, 11 de abril  "
      ]
     },
     "execution_count": 4,
     "metadata": {},
     "output_type": "execute_result"
    }
   ],
   "source": [
    "products.head()"
   ]
  },
  {
   "cell_type": "code",
   "execution_count": 11,
   "id": "revised-halloween",
   "metadata": {},
   "outputs": [],
   "source": [
    "#exporting it as a csv\n",
    "products.to_csv('professional_hairdressing_products_amazon.csv')"
   ]
  }
 ],
 "metadata": {
  "kernelspec": {
   "display_name": "Python 3",
   "language": "python",
   "name": "python3"
  },
  "language_info": {
   "codemirror_mode": {
    "name": "ipython",
    "version": 3
   },
   "file_extension": ".py",
   "mimetype": "text/x-python",
   "name": "python",
   "nbconvert_exporter": "python",
   "pygments_lexer": "ipython3",
   "version": "3.9.1"
  },
  "toc": {
   "base_numbering": 1,
   "nav_menu": {},
   "number_sections": true,
   "sideBar": true,
   "skip_h1_title": false,
   "title_cell": "Table of Contents",
   "title_sidebar": "Contents",
   "toc_cell": false,
   "toc_position": {},
   "toc_section_display": true,
   "toc_window_display": false
  },
  "varInspector": {
   "cols": {
    "lenName": 16,
    "lenType": 16,
    "lenVar": 40
   },
   "kernels_config": {
    "python": {
     "delete_cmd_postfix": "",
     "delete_cmd_prefix": "del ",
     "library": "var_list.py",
     "varRefreshCmd": "print(var_dic_list())"
    },
    "r": {
     "delete_cmd_postfix": ") ",
     "delete_cmd_prefix": "rm(",
     "library": "var_list.r",
     "varRefreshCmd": "cat(var_dic_list()) "
    }
   },
   "types_to_exclude": [
    "module",
    "function",
    "builtin_function_or_method",
    "instance",
    "_Feature"
   ],
   "window_display": false
  }
 },
 "nbformat": 4,
 "nbformat_minor": 5
}
