{
 "cells": [
  {
   "cell_type": "markdown",
   "id": "occasional-therapist",
   "metadata": {},
   "source": [
    "## Extracción de la primera página"
   ]
  },
  {
   "cell_type": "markdown",
   "id": "finished-command",
   "metadata": {},
   "source": [
    "### Importamos librerías y datos"
   ]
  },
  {
   "cell_type": "code",
   "execution_count": 20,
   "id": "needed-spine",
   "metadata": {},
   "outputs": [],
   "source": [
    "from bs4 import BeautifulSoup\n",
    "import requests\n",
    "import pandas as pd"
   ]
  },
  {
   "cell_type": "code",
   "execution_count": 21,
   "id": "separated-northeast",
   "metadata": {},
   "outputs": [],
   "source": [
    "url = 'https://www.amazon.es/s?k=revlon+professional&i=beauty&rh=n%3A6198054031%2Cn%3A4347698031%2Cn%3A4347699031&dc&__mk_es_ES=%C3%85M%C3%85%C5%BD%C3%95%C3%91&qid=1617263751&rnid=6198054031&ref=sr_nr_n_3'"
   ]
  },
  {
   "cell_type": "code",
   "execution_count": 4,
   "id": "round-living",
   "metadata": {},
   "outputs": [],
   "source": [
    "headers = {\n",
    "    'User-Agent': 'Mozilla/5.0 (Windows NT 10.0; Win64; x64) AppleWebKit/537.36 (KHTML, like Gecko) Chrome/89.0.4389.82 Safari/537.36'\n",
    "}"
   ]
  },
  {
   "cell_type": "code",
   "execution_count": 5,
   "id": "excessive-parks",
   "metadata": {},
   "outputs": [],
   "source": [
    "resp = requests.get(url, headers=headers)"
   ]
  },
  {
   "cell_type": "code",
   "execution_count": 6,
   "id": "careful-renewal",
   "metadata": {},
   "outputs": [
    {
     "data": {
      "text/plain": [
       "200"
      ]
     },
     "execution_count": 6,
     "metadata": {},
     "output_type": "execute_result"
    }
   ],
   "source": [
    "resp.status_code"
   ]
  },
  {
   "cell_type": "code",
   "execution_count": 7,
   "id": "legitimate-quest",
   "metadata": {},
   "outputs": [],
   "source": [
    "html = resp.text"
   ]
  },
  {
   "cell_type": "code",
   "execution_count": 8,
   "id": "developmental-resolution",
   "metadata": {},
   "outputs": [],
   "source": [
    "soup = BeautifulSoup(html, 'html.parser')"
   ]
  },
  {
   "cell_type": "code",
   "execution_count": 9,
   "id": "digital-injury",
   "metadata": {},
   "outputs": [],
   "source": [
    "products = soup.findAll('div', attrs={\"class\":\"sg-col-4-of-12 s-result-item s-asin sg-col-4-of-16 sg-col sg-col-4-of-20\"})"
   ]
  },
  {
   "cell_type": "markdown",
   "id": "proud-breathing",
   "metadata": {},
   "source": [
    "### Buscamos los campos que queremos extraer: "
   ]
  },
  {
   "cell_type": "code",
   "execution_count": 10,
   "id": "bottom-immunology",
   "metadata": {},
   "outputs": [
    {
     "data": {
      "text/plain": [
       "'UniqOne Revlon Professional - Tratamiento para el cabello, Coco, 150 ml'"
      ]
     },
     "execution_count": 10,
     "metadata": {},
     "output_type": "execute_result"
    }
   ],
   "source": [
    "#nombre producto en str:\n",
    "products[1].find('span', attrs={'class':'a-size-base-plus a-color-base a-text-normal'}).text"
   ]
  },
  {
   "cell_type": "code",
   "execution_count": 11,
   "id": "small-license",
   "metadata": {},
   "outputs": [
    {
     "data": {
      "text/plain": [
       "6.95"
      ]
     },
     "execution_count": 11,
     "metadata": {},
     "output_type": "execute_result"
    }
   ],
   "source": [
    "#precio en float:\n",
    "float(products[1].find('span', attrs={'class':'a-price-whole'}).text.replace(',', '.'))"
   ]
  },
  {
   "cell_type": "code",
   "execution_count": 12,
   "id": "rental-century",
   "metadata": {},
   "outputs": [
    {
     "data": {
      "text/plain": [
       "4.5"
      ]
     },
     "execution_count": 12,
     "metadata": {},
     "output_type": "execute_result"
    }
   ],
   "source": [
    "# estrellas en float:\n",
    "float(products[1].find('div', attrs={'class':'a-row a-size-small'}).text.split(' de')[0].replace(',', '.'))"
   ]
  },
  {
   "cell_type": "code",
   "execution_count": 13,
   "id": "opposed-northwest",
   "metadata": {},
   "outputs": [
    {
     "data": {
      "text/plain": [
       "8702"
      ]
     },
     "execution_count": 13,
     "metadata": {},
     "output_type": "execute_result"
    }
   ],
   "source": [
    "# nº reviews en int:\n",
    "int(products[1].find('div', attrs={'class':'a-row a-size-small'}).text.split('estrellas')[1].replace('.', '').strip())"
   ]
  },
  {
   "cell_type": "code",
   "execution_count": 14,
   "id": "automotive-darwin",
   "metadata": {},
   "outputs": [
    {
     "data": {
      "text/plain": [
       "'6 de abril'"
      ]
     },
     "execution_count": 14,
     "metadata": {},
     "output_type": "execute_result"
    }
   ],
   "source": [
    "# fecha delivery en str:\n",
    "products[1].find('div', attrs={'class':'a-row s-align-children-center'}).text.split(', ')[1].replace('\\n', '')"
   ]
  },
  {
   "cell_type": "code",
   "execution_count": 15,
   "id": "hired-aspect",
   "metadata": {},
   "outputs": [
    {
     "data": {
      "text/plain": [
       "4.63"
      ]
     },
     "execution_count": 15,
     "metadata": {},
     "output_type": "execute_result"
    }
   ],
   "source": [
    "#precio por 100 ml en float: \n",
    "float(products[1].find('span', attrs={'class':'a-size-base a-color-secondary'}).text.split('\\xa0€/100 ml)')[0].replace('(', '').replace(',', '.'))"
   ]
  },
  {
   "cell_type": "code",
   "execution_count": 16,
   "id": "collectible-picture",
   "metadata": {},
   "outputs": [
    {
     "data": {
      "text/plain": [
       "11.66"
      ]
     },
     "execution_count": 16,
     "metadata": {},
     "output_type": "execute_result"
    }
   ],
   "source": [
    "#precio tachado\n",
    "float(products[1].find('span', attrs={'class':'a-price a-text-price'}).text.split('\\xa0€')[0].replace(',', '.'))"
   ]
  },
  {
   "cell_type": "markdown",
   "id": "crude-karen",
   "metadata": {},
   "source": [
    "### Extraemos los datos de toda la página y creamos un DataFrame "
   ]
  },
  {
   "cell_type": "code",
   "execution_count": 17,
   "id": "general-suspension",
   "metadata": {},
   "outputs": [],
   "source": [
    "data = []\n",
    "for product in products: \n",
    "    try:\n",
    "        prod_name = product.find('span', attrs={'class':'a-size-base-plus a-color-base a-text-normal'}).text\n",
    "    except:\n",
    "        prod_name = None\n",
    "    try:\n",
    "        price = float(product.find('span', attrs={'class':'a-price-whole'}).text.replace(',', '.'))\n",
    "    except:\n",
    "        price = None\n",
    "    try: \n",
    "        price_ml = float(product.find('span', attrs={'class':'a-size-base a-color-secondary'}).text.split('\\xa0€/100 ml)')[0].replace('(', '').replace(',', '.'))\n",
    "    except:\n",
    "        price_ml = None\n",
    "    try:\n",
    "        old_price = float(product.find('span', attrs={'class':'a-price a-text-price'}).text.split('\\xa0€')[0].replace(',', '.'))\n",
    "    except:\n",
    "        old_price = None\n",
    "    try:\n",
    "        stars = float(product.find('div', attrs={'class':'a-row a-size-small'}).text.split(' de')[0].replace(',', '.'))\n",
    "    except:\n",
    "        stars = None\n",
    "    try:\n",
    "        reviews = int(product.find('div', attrs={'class':'a-row a-size-small'}).text.split('estrellas')[1].replace('.', '').strip())\n",
    "    except:\n",
    "        reviews = None\n",
    "    try:\n",
    "        delivery_date = product.find('div', attrs={'class':'a-row s-align-children-center'}).text.split(', ')[1].replace('\\n', '')\n",
    "    except:\n",
    "        delivery_date = None\n",
    "    try: \n",
    "        data.append({'prod_name':prod_name, 'price':price, 'old_price':old_price, 'price_ml':price_ml,'stars':stars, 'reviews':reviews, 'deliver_date':delivery_date})\n",
    "    except:\n",
    "        print('error')"
   ]
  },
  {
   "cell_type": "code",
   "execution_count": 18,
   "id": "accepting-anthony",
   "metadata": {},
   "outputs": [],
   "source": [
    "df = pd.DataFrame(data)"
   ]
  },
  {
   "cell_type": "code",
   "execution_count": 22,
   "id": "alleged-classic",
   "metadata": {},
   "outputs": [
    {
     "data": {
      "text/html": [
       "<div>\n",
       "<style scoped>\n",
       "    .dataframe tbody tr th:only-of-type {\n",
       "        vertical-align: middle;\n",
       "    }\n",
       "\n",
       "    .dataframe tbody tr th {\n",
       "        vertical-align: top;\n",
       "    }\n",
       "\n",
       "    .dataframe thead th {\n",
       "        text-align: right;\n",
       "    }\n",
       "</style>\n",
       "<table border=\"1\" class=\"dataframe\">\n",
       "  <thead>\n",
       "    <tr style=\"text-align: right;\">\n",
       "      <th></th>\n",
       "      <th>prod_name</th>\n",
       "      <th>price</th>\n",
       "      <th>old_price</th>\n",
       "      <th>price_ml</th>\n",
       "      <th>stars</th>\n",
       "      <th>reviews</th>\n",
       "      <th>deliver_date</th>\n",
       "    </tr>\n",
       "  </thead>\n",
       "  <tbody>\n",
       "    <tr>\n",
       "      <th>0</th>\n",
       "      <td>Revlon Professional UniqOne Champú y Acondicio...</td>\n",
       "      <td>NaN</td>\n",
       "      <td>NaN</td>\n",
       "      <td>NaN</td>\n",
       "      <td>4.5</td>\n",
       "      <td>3003.0</td>\n",
       "      <td>None</td>\n",
       "    </tr>\n",
       "    <tr>\n",
       "      <th>1</th>\n",
       "      <td>UniqOne Revlon Professional - Tratamiento para...</td>\n",
       "      <td>6.95</td>\n",
       "      <td>11.66</td>\n",
       "      <td>4.63</td>\n",
       "      <td>4.5</td>\n",
       "      <td>8702.0</td>\n",
       "      <td>6 de abril</td>\n",
       "    </tr>\n",
       "    <tr>\n",
       "      <th>2</th>\n",
       "      <td>UniqOne Revlon Professional Classico Tratamien...</td>\n",
       "      <td>18.61</td>\n",
       "      <td>NaN</td>\n",
       "      <td>NaN</td>\n",
       "      <td>4.5</td>\n",
       "      <td>70.0</td>\n",
       "      <td>9 de abril</td>\n",
       "    </tr>\n",
       "    <tr>\n",
       "      <th>3</th>\n",
       "      <td>Revlon Professional ProYou Textura de Peinado ...</td>\n",
       "      <td>12.99</td>\n",
       "      <td>NaN</td>\n",
       "      <td>NaN</td>\n",
       "      <td>4.0</td>\n",
       "      <td>71.0</td>\n",
       "      <td>6 de abril</td>\n",
       "    </tr>\n",
       "    <tr>\n",
       "      <th>4</th>\n",
       "      <td>REVLON PROFESSIONAL Nutri Color Filters #400 T...</td>\n",
       "      <td>11.71</td>\n",
       "      <td>15.00</td>\n",
       "      <td>NaN</td>\n",
       "      <td>4.6</td>\n",
       "      <td>80.0</td>\n",
       "      <td>6 de abril</td>\n",
       "    </tr>\n",
       "  </tbody>\n",
       "</table>\n",
       "</div>"
      ],
      "text/plain": [
       "                                           prod_name  price  old_price  \\\n",
       "0  Revlon Professional UniqOne Champú y Acondicio...    NaN        NaN   \n",
       "1  UniqOne Revlon Professional - Tratamiento para...   6.95      11.66   \n",
       "2  UniqOne Revlon Professional Classico Tratamien...  18.61        NaN   \n",
       "3  Revlon Professional ProYou Textura de Peinado ...  12.99        NaN   \n",
       "4  REVLON PROFESSIONAL Nutri Color Filters #400 T...  11.71      15.00   \n",
       "\n",
       "   price_ml  stars  reviews deliver_date  \n",
       "0       NaN    4.5   3003.0         None  \n",
       "1      4.63    4.5   8702.0   6 de abril  \n",
       "2       NaN    4.5     70.0   9 de abril  \n",
       "3       NaN    4.0     71.0   6 de abril  \n",
       "4       NaN    4.6     80.0   6 de abril  "
      ]
     },
     "execution_count": 22,
     "metadata": {},
     "output_type": "execute_result"
    }
   ],
   "source": [
    "df.head()"
   ]
  },
  {
   "cell_type": "markdown",
   "id": "utility-estonia",
   "metadata": {},
   "source": [
    "## Extracción de todas las páginas"
   ]
  },
  {
   "cell_type": "markdown",
   "id": "massive-overview",
   "metadata": {},
   "source": [
    "### Generamos las URLs"
   ]
  },
  {
   "cell_type": "code",
   "execution_count": 65,
   "id": "magnetic-variance",
   "metadata": {},
   "outputs": [],
   "source": [
    "url_list = ['https://www.amazon.es/s?k=revlon+professional&i=beauty&rh=n%3A6198054031%2Cn%3A4347698031%2Cn%3A4347699031&dc&__mk_es_ES=%C3%85M%C3%85%C5%BD%C3%95%C3%91&qid=1617263751&rnid=6198054031&ref=sr_nr_n_3']"
   ]
  },
  {
   "cell_type": "code",
   "execution_count": 66,
   "id": "european-optics",
   "metadata": {},
   "outputs": [],
   "source": [
    "url_p2 = 'https://www.amazon.es/s?k=revlon+professional&i=beauty&rh=n%3A6198054031%2Cn%3A4347698031%2Cn%3A4347699031&dc&page=2&__mk_es_ES=%C3%85M%C3%85%C5%BD%C3%95%C3%91&qid=1617271529&rnid=6198054031&ref=sr_pg_2'"
   ]
  },
  {
   "cell_type": "code",
   "execution_count": 67,
   "id": "practical-authority",
   "metadata": {},
   "outputs": [],
   "source": [
    "page_qids = list(range(1617271529, 1617272089, 35))\n",
    "page_numbers = list(range(2, 18))"
   ]
  },
  {
   "cell_type": "code",
   "execution_count": 133,
   "id": "thermal-titanium",
   "metadata": {},
   "outputs": [],
   "source": [
    "for qid, number in zip(page_ids, page_numbers): \n",
    "    url_list.append(f'https://www.amazon.es/s?k=revlon+professional&i=beauty&rh=n%3A6198054031%2Cn%3A4347698031%2Cn%3A4347699031&dc&page={number}&__mk_es_ES=%C3%85M%C3%85%C5%BD%C3%95%C3%91&qid={qid}&rnid=6198054031&ref=sr_pg_{number}')      "
   ]
  },
  {
   "cell_type": "markdown",
   "id": "incomplete-progressive",
   "metadata": {},
   "source": [
    "### Parseamos todas las páginas"
   ]
  },
  {
   "cell_type": "code",
   "execution_count": 69,
   "id": "alternate-touch",
   "metadata": {},
   "outputs": [],
   "source": [
    "headers = {\n",
    "    'User-Agent': 'Mozilla/5.0 (Windows NT 10.0; Win64; x64) AppleWebKit/537.36 (KHTML, like Gecko) Chrome/89.0.4389.82 Safari/537.36'\n",
    "}"
   ]
  },
  {
   "cell_type": "code",
   "execution_count": 121,
   "id": "detailed-detroit",
   "metadata": {},
   "outputs": [],
   "source": [
    "parsed_pages = []"
   ]
  },
  {
   "cell_type": "code",
   "execution_count": 122,
   "id": "cardiovascular-prefix",
   "metadata": {},
   "outputs": [],
   "source": [
    "for url in url_list:\n",
    "    resp = requests.get(url, headers=headers)\n",
    "    html = resp.text\n",
    "    soup = BeautifulSoup(html, 'html.parser')\n",
    "    products = soup.findAll('div', attrs={\"class\":\"sg-col-4-of-12 s-result-item s-asin sg-col-4-of-16 sg-col sg-col-4-of-20\"})\n",
    "    parsed_pages.append(products)"
   ]
  },
  {
   "cell_type": "markdown",
   "id": "massive-overview",
   "metadata": {},
   "source": [
    "### Obtenemos los datos que queremos con BeautifulSoup"
   ]
  },
  {
   "cell_type": "code",
   "execution_count": 123,
   "id": "interpreted-lloyd",
   "metadata": {},
   "outputs": [],
   "source": [
    "data2 = []"
   ]
  },
  {
   "cell_type": "code",
   "execution_count": 124,
   "id": "metallic-profit",
   "metadata": {},
   "outputs": [],
   "source": [
    "for page in parsed_pages:\n",
    "    for product in page:\n",
    "        try:\n",
    "            prod_name = product.find('span', attrs={'class':'a-size-base-plus a-color-base a-text-normal'}).text\n",
    "        except:\n",
    "            prod_name = None\n",
    "        try:\n",
    "            price = float(product.find('span', attrs={'class':'a-price-whole'}).text.replace(',', '.'))\n",
    "        except:\n",
    "            price = None\n",
    "        try: \n",
    "            price_ml = float(product.find('span', attrs={'class':'a-size-base a-color-secondary'}).text.split('\\xa0€/100 ml)')[0].replace('(', '').replace(',', '.'))\n",
    "        except:\n",
    "            price_ml = None\n",
    "        try:\n",
    "            old_price = float(product.find('span', attrs={'class':'a-price a-text-price'}).text.split('\\xa0€')[0].replace(',', '.'))\n",
    "        except:\n",
    "            old_price = None\n",
    "        try:\n",
    "            stars = float(product.find('div', attrs={'class':'a-row a-size-small'}).text.split(' de')[0].replace(',', '.'))\n",
    "        except:\n",
    "            stars = None\n",
    "        try:\n",
    "            reviews = int(product.find('div', attrs={'class':'a-row a-size-small'}).text.split('estrellas')[1].replace('.', '').strip())\n",
    "        except:\n",
    "            reviews = None\n",
    "        try:\n",
    "            delivery_date = product.find('div', attrs={'class':'a-row s-align-children-center'}).text.split(', ')[1].replace('\\n', '')\n",
    "        except:\n",
    "            delivery_date = None\n",
    "        try: \n",
    "            data2.append({'prod_name':prod_name, 'price':price, 'old_price':old_price, 'price_ml':price_ml,'stars':stars, 'reviews':reviews, 'delivery_date':delivery_date})\n",
    "        except:\n",
    "            print('error')"
   ]
  },
  {
   "cell_type": "markdown",
   "id": "massive-overview",
   "metadata": {},
   "source": [
    "### Creamos un DataFrame y lo exportamos como csv"
   ]
  },
  {
   "cell_type": "code",
   "execution_count": 126,
   "id": "accepting-anthony",
   "metadata": {},
   "outputs": [],
   "source": [
    "df2 = pd.DataFrame(data2)"
   ]
  },
  {
   "cell_type": "code",
   "execution_count": 127,
   "id": "alleged-classic",
   "metadata": {},
   "outputs": [
    {
     "data": {
      "text/html": [
       "<div>\n",
       "<style scoped>\n",
       "    .dataframe tbody tr th:only-of-type {\n",
       "        vertical-align: middle;\n",
       "    }\n",
       "\n",
       "    .dataframe tbody tr th {\n",
       "        vertical-align: top;\n",
       "    }\n",
       "\n",
       "    .dataframe thead th {\n",
       "        text-align: right;\n",
       "    }\n",
       "</style>\n",
       "<table border=\"1\" class=\"dataframe\">\n",
       "  <thead>\n",
       "    <tr style=\"text-align: right;\">\n",
       "      <th></th>\n",
       "      <th>prod_name</th>\n",
       "      <th>price</th>\n",
       "      <th>old_price</th>\n",
       "      <th>price_ml</th>\n",
       "      <th>stars</th>\n",
       "      <th>reviews</th>\n",
       "      <th>delivery_date</th>\n",
       "    </tr>\n",
       "  </thead>\n",
       "  <tbody>\n",
       "    <tr>\n",
       "      <th>0</th>\n",
       "      <td>Revlon Professional UniqOne Champú y Acondicio...</td>\n",
       "      <td>NaN</td>\n",
       "      <td>NaN</td>\n",
       "      <td>NaN</td>\n",
       "      <td>4.5</td>\n",
       "      <td>3003.0</td>\n",
       "      <td>None</td>\n",
       "    </tr>\n",
       "    <tr>\n",
       "      <th>1</th>\n",
       "      <td>UniqOne Revlon Professional - Tratamiento para...</td>\n",
       "      <td>6.95</td>\n",
       "      <td>11.66</td>\n",
       "      <td>4.63</td>\n",
       "      <td>4.5</td>\n",
       "      <td>8705.0</td>\n",
       "      <td>6 de abril</td>\n",
       "    </tr>\n",
       "    <tr>\n",
       "      <th>2</th>\n",
       "      <td>UniqOne Revlon Professional Classico Tratamien...</td>\n",
       "      <td>14.95</td>\n",
       "      <td>15.60</td>\n",
       "      <td>NaN</td>\n",
       "      <td>4.5</td>\n",
       "      <td>70.0</td>\n",
       "      <td>None</td>\n",
       "    </tr>\n",
       "    <tr>\n",
       "      <th>3</th>\n",
       "      <td>Revlon Professional ProYou Textura de Peinado ...</td>\n",
       "      <td>12.99</td>\n",
       "      <td>NaN</td>\n",
       "      <td>NaN</td>\n",
       "      <td>4.0</td>\n",
       "      <td>71.0</td>\n",
       "      <td>6 de abril</td>\n",
       "    </tr>\n",
       "    <tr>\n",
       "      <th>4</th>\n",
       "      <td>REVLON PROFESSIONAL Nutri Color Filters #400 T...</td>\n",
       "      <td>11.71</td>\n",
       "      <td>15.00</td>\n",
       "      <td>NaN</td>\n",
       "      <td>4.6</td>\n",
       "      <td>80.0</td>\n",
       "      <td>6 de abril</td>\n",
       "    </tr>\n",
       "  </tbody>\n",
       "</table>\n",
       "</div>"
      ],
      "text/plain": [
       "                                           prod_name  price  old_price  \\\n",
       "0  Revlon Professional UniqOne Champú y Acondicio...    NaN        NaN   \n",
       "1  UniqOne Revlon Professional - Tratamiento para...   6.95      11.66   \n",
       "2  UniqOne Revlon Professional Classico Tratamien...  14.95      15.60   \n",
       "3  Revlon Professional ProYou Textura de Peinado ...  12.99        NaN   \n",
       "4  REVLON PROFESSIONAL Nutri Color Filters #400 T...  11.71      15.00   \n",
       "\n",
       "   price_ml  stars  reviews delivery_date  \n",
       "0       NaN    4.5   3003.0          None  \n",
       "1      4.63    4.5   8705.0    6 de abril  \n",
       "2       NaN    4.5     70.0          None  \n",
       "3       NaN    4.0     71.0    6 de abril  \n",
       "4       NaN    4.6     80.0    6 de abril  "
      ]
     },
     "execution_count": 127,
     "metadata": {},
     "output_type": "execute_result"
    }
   ],
   "source": [
    "df2.head()"
   ]
  },
  {
   "cell_type": "code",
   "execution_count": 128,
   "id": "interim-designer",
   "metadata": {},
   "outputs": [
    {
     "data": {
      "text/plain": [
       "(796, 7)"
      ]
     },
     "execution_count": 128,
     "metadata": {},
     "output_type": "execute_result"
    }
   ],
   "source": [
    "df2.shape"
   ]
  },
  {
   "cell_type": "code",
   "execution_count": 132,
   "id": "ordinary-anthony",
   "metadata": {},
   "outputs": [],
   "source": [
    "df2.to_csv('revlon_pro_amazon.csv')"
   ]
  }
 ],
 "metadata": {
  "kernelspec": {
   "display_name": "Python 3",
   "language": "python",
   "name": "python3"
  },
  "language_info": {
   "codemirror_mode": {
    "name": "ipython",
    "version": 3
   },
   "file_extension": ".py",
   "mimetype": "text/x-python",
   "name": "python",
   "nbconvert_exporter": "python",
   "pygments_lexer": "ipython3",
   "version": "3.9.1"
  },
  "toc": {
   "base_numbering": 1,
   "nav_menu": {},
   "number_sections": true,
   "sideBar": true,
   "skip_h1_title": false,
   "title_cell": "Table of Contents",
   "title_sidebar": "Contents",
   "toc_cell": false,
   "toc_position": {},
   "toc_section_display": true,
   "toc_window_display": false
  },
  "varInspector": {
   "cols": {
    "lenName": 16,
    "lenType": 16,
    "lenVar": 40
   },
   "kernels_config": {
    "python": {
     "delete_cmd_postfix": "",
     "delete_cmd_prefix": "del ",
     "library": "var_list.py",
     "varRefreshCmd": "print(var_dic_list())"
    },
    "r": {
     "delete_cmd_postfix": ") ",
     "delete_cmd_prefix": "rm(",
     "library": "var_list.r",
     "varRefreshCmd": "cat(var_dic_list()) "
    }
   },
   "types_to_exclude": [
    "module",
    "function",
    "builtin_function_or_method",
    "instance",
    "_Feature"
   ],
   "window_display": false
  }
 },
 "nbformat": 4,
 "nbformat_minor": 5
}
